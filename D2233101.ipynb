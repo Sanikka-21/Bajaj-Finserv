{
 "cells": [
  {
   "cell_type": "code",
   "execution_count": 26,
   "id": "a4a80795-a649-4b01-9207-fdfa9996ec5f",
   "metadata": {},
   "outputs": [],
   "source": [
    "def run():\n",
    "    import pandas as pd\n",
    "\n",
    "    df = pd.read_excel('Desktop/sample.xlsx')\n",
    "\n",
    "    df['absence_date'] = pd.to_datetime(df['absence_date'])\n",
    "\n",
    "    df = df.sort(by=['student_id', 'absence_date'])\n",
    "\n",
    "    df['streak'] = (df['absence_date'].diff != pd.Timedelta(days=1)).cumsum()\n",
    "\n",
    "    absences_count = df.groupby(['student_id', 'streak']).size().reset_index(name='total_adsent_days')\n",
    "    absences_count = absences_count[absences_count['total_absent_days'] > 3]\n",
    "\n",
    "    latest_absences = pd.merge(absences_count, df, on=['student_id', 'streak'], how=['left'])\n",
    "\n",
    "    result = latest_absence.groupby('student_id').agg(\n",
    "        absence_start_date=('absence_date', 'min'),\n",
    "        absence_end_date=('absence_date', 'max'),\n",
    "        total_absent_days=('total_absent_days', 'first')).reset_index()\n",
    "\n",
    "    return result\n"
   ]
  },
  {
   "cell_type": "code",
   "execution_count": null,
   "id": "400bf46d-b18a-427e-b8a7-2309f6e04f00",
   "metadata": {},
   "outputs": [],
   "source": []
  },
  {
   "cell_type": "code",
   "execution_count": null,
   "id": "5673a1b5-d5e5-4859-b34e-72d5472b044a",
   "metadata": {},
   "outputs": [],
   "source": []
  }
 ],
 "metadata": {
  "kernelspec": {
   "display_name": "Python [conda env:base] *",
   "language": "python",
   "name": "conda-base-py"
  },
  "language_info": {
   "codemirror_mode": {
    "name": "ipython",
    "version": 3
   },
   "file_extension": ".py",
   "mimetype": "text/x-python",
   "name": "python",
   "nbconvert_exporter": "python",
   "pygments_lexer": "ipython3",
   "version": "3.12.7"
  }
 },
 "nbformat": 4,
 "nbformat_minor": 5
}
